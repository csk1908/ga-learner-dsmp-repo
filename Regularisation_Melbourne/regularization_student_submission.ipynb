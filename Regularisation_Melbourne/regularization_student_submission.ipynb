{
 "cells": [
  {
   "cell_type": "code",
   "execution_count": 1,
   "metadata": {},
   "outputs": [],
   "source": [
    "import numpy as np\n",
    "import pandas as pd\n",
    "import seaborn as sns\n",
    "import matplotlib.pyplot as plt\n",
    "from sklearn.model_selection import train_test_split, cross_val_score\n",
    "from sklearn.linear_model import LinearRegression, Lasso, Ridge\n",
    "from sklearn.metrics import r2_score\n",
    "from sklearn.preprocessing import PolynomialFeatures\n",
    "from sklearn.pipeline import make_pipeline\n",
    "\n",
    "import warnings\n",
    "warnings.filterwarnings('ignore')"
   ]
  },
  {
   "cell_type": "markdown",
   "metadata": {},
   "source": [
    "### Load the dataset\n",
    "\n",
    "- Load the train data and using all your knowledge of pandas try to explore the different statistical properties like correlation of the dataset."
   ]
  },
  {
   "cell_type": "code",
   "execution_count": 2,
   "metadata": {},
   "outputs": [
    {
     "name": "stdout",
     "output_type": "stream",
     "text": [
      "(4781, 17)\n"
     ]
    },
    {
     "data": {
      "text/html": [
       "<div>\n",
       "<style scoped>\n",
       "    .dataframe tbody tr th:only-of-type {\n",
       "        vertical-align: middle;\n",
       "    }\n",
       "\n",
       "    .dataframe tbody tr th {\n",
       "        vertical-align: top;\n",
       "    }\n",
       "\n",
       "    .dataframe thead th {\n",
       "        text-align: right;\n",
       "    }\n",
       "</style>\n",
       "<table border=\"1\" class=\"dataframe\">\n",
       "  <thead>\n",
       "    <tr style=\"text-align: right;\">\n",
       "      <th></th>\n",
       "      <th>Id</th>\n",
       "      <th>Rooms</th>\n",
       "      <th>Type</th>\n",
       "      <th>Price</th>\n",
       "      <th>Method</th>\n",
       "      <th>SellerG</th>\n",
       "      <th>Distance</th>\n",
       "      <th>Postcode</th>\n",
       "      <th>Bathroom</th>\n",
       "      <th>Car</th>\n",
       "      <th>Landsize</th>\n",
       "      <th>BuildingArea</th>\n",
       "      <th>YearBuilt</th>\n",
       "      <th>CouncilArea</th>\n",
       "      <th>Longtitude</th>\n",
       "      <th>Regionname</th>\n",
       "      <th>Propertycount</th>\n",
       "    </tr>\n",
       "  </thead>\n",
       "  <tbody>\n",
       "    <tr>\n",
       "      <th>Id</th>\n",
       "      <td>1.000000</td>\n",
       "      <td>0.075467</td>\n",
       "      <td>-0.082662</td>\n",
       "      <td>-0.096217</td>\n",
       "      <td>0.015201</td>\n",
       "      <td>0.034281</td>\n",
       "      <td>0.297354</td>\n",
       "      <td>0.075244</td>\n",
       "      <td>0.002907</td>\n",
       "      <td>0.088199</td>\n",
       "      <td>0.075567</td>\n",
       "      <td>-0.017175</td>\n",
       "      <td>0.104215</td>\n",
       "      <td>-0.194283</td>\n",
       "      <td>0.017536</td>\n",
       "      <td>-0.104060</td>\n",
       "      <td>0.020192</td>\n",
       "    </tr>\n",
       "    <tr>\n",
       "      <th>Rooms</th>\n",
       "      <td>0.075467</td>\n",
       "      <td>1.000000</td>\n",
       "      <td>-0.590817</td>\n",
       "      <td>0.523579</td>\n",
       "      <td>-0.053525</td>\n",
       "      <td>-0.029506</td>\n",
       "      <td>0.289699</td>\n",
       "      <td>0.050753</td>\n",
       "      <td>0.607276</td>\n",
       "      <td>0.420030</td>\n",
       "      <td>0.092030</td>\n",
       "      <td>0.595395</td>\n",
       "      <td>-0.056373</td>\n",
       "      <td>-0.207234</td>\n",
       "      <td>0.095944</td>\n",
       "      <td>-0.009092</td>\n",
       "      <td>-0.106854</td>\n",
       "    </tr>\n",
       "    <tr>\n",
       "      <th>Type</th>\n",
       "      <td>-0.082662</td>\n",
       "      <td>-0.590817</td>\n",
       "      <td>1.000000</td>\n",
       "      <td>-0.426876</td>\n",
       "      <td>0.088308</td>\n",
       "      <td>0.026955</td>\n",
       "      <td>-0.242188</td>\n",
       "      <td>0.018737</td>\n",
       "      <td>-0.276890</td>\n",
       "      <td>-0.278868</td>\n",
       "      <td>-0.043433</td>\n",
       "      <td>-0.386768</td>\n",
       "      <td>0.304479</td>\n",
       "      <td>0.159736</td>\n",
       "      <td>0.000434</td>\n",
       "      <td>0.055988</td>\n",
       "      <td>0.111803</td>\n",
       "    </tr>\n",
       "    <tr>\n",
       "      <th>Price</th>\n",
       "      <td>-0.096217</td>\n",
       "      <td>0.523579</td>\n",
       "      <td>-0.426876</td>\n",
       "      <td>1.000000</td>\n",
       "      <td>-0.048165</td>\n",
       "      <td>-0.065393</td>\n",
       "      <td>-0.158197</td>\n",
       "      <td>0.120166</td>\n",
       "      <td>0.493173</td>\n",
       "      <td>0.237160</td>\n",
       "      <td>0.072753</td>\n",
       "      <td>0.519207</td>\n",
       "      <td>-0.297060</td>\n",
       "      <td>-0.119382</td>\n",
       "      <td>0.217738</td>\n",
       "      <td>0.083803</td>\n",
       "      <td>-0.052399</td>\n",
       "    </tr>\n",
       "    <tr>\n",
       "      <th>Method</th>\n",
       "      <td>0.015201</td>\n",
       "      <td>-0.053525</td>\n",
       "      <td>0.088308</td>\n",
       "      <td>-0.048165</td>\n",
       "      <td>1.000000</td>\n",
       "      <td>-0.008889</td>\n",
       "      <td>-0.064479</td>\n",
       "      <td>-0.034679</td>\n",
       "      <td>-0.013801</td>\n",
       "      <td>-0.019285</td>\n",
       "      <td>-0.021601</td>\n",
       "      <td>-0.048287</td>\n",
       "      <td>0.021274</td>\n",
       "      <td>0.018771</td>\n",
       "      <td>-0.059914</td>\n",
       "      <td>0.033184</td>\n",
       "      <td>-0.024244</td>\n",
       "    </tr>\n",
       "    <tr>\n",
       "      <th>SellerG</th>\n",
       "      <td>0.034281</td>\n",
       "      <td>-0.029506</td>\n",
       "      <td>0.026955</td>\n",
       "      <td>-0.065393</td>\n",
       "      <td>-0.008889</td>\n",
       "      <td>1.000000</td>\n",
       "      <td>0.024476</td>\n",
       "      <td>-0.001913</td>\n",
       "      <td>-0.034939</td>\n",
       "      <td>-0.000271</td>\n",
       "      <td>-0.028470</td>\n",
       "      <td>-0.042596</td>\n",
       "      <td>-0.000680</td>\n",
       "      <td>-0.002784</td>\n",
       "      <td>-0.061029</td>\n",
       "      <td>0.023397</td>\n",
       "      <td>0.063498</td>\n",
       "    </tr>\n",
       "    <tr>\n",
       "      <th>Distance</th>\n",
       "      <td>0.297354</td>\n",
       "      <td>0.289699</td>\n",
       "      <td>-0.242188</td>\n",
       "      <td>-0.158197</td>\n",
       "      <td>-0.064479</td>\n",
       "      <td>0.024476</td>\n",
       "      <td>1.000000</td>\n",
       "      <td>0.414110</td>\n",
       "      <td>0.114934</td>\n",
       "      <td>0.257264</td>\n",
       "      <td>0.063563</td>\n",
       "      <td>0.145823</td>\n",
       "      <td>0.252163</td>\n",
       "      <td>-0.280674</td>\n",
       "      <td>0.210853</td>\n",
       "      <td>-0.089077</td>\n",
       "      <td>-0.063805</td>\n",
       "    </tr>\n",
       "    <tr>\n",
       "      <th>Postcode</th>\n",
       "      <td>0.075244</td>\n",
       "      <td>0.050753</td>\n",
       "      <td>0.018737</td>\n",
       "      <td>0.120166</td>\n",
       "      <td>-0.034679</td>\n",
       "      <td>-0.001913</td>\n",
       "      <td>0.414110</td>\n",
       "      <td>1.000000</td>\n",
       "      <td>0.088003</td>\n",
       "      <td>0.024650</td>\n",
       "      <td>0.030973</td>\n",
       "      <td>0.062701</td>\n",
       "      <td>0.027168</td>\n",
       "      <td>-0.059066</td>\n",
       "      <td>0.423931</td>\n",
       "      <td>0.006935</td>\n",
       "      <td>0.058458</td>\n",
       "    </tr>\n",
       "    <tr>\n",
       "      <th>Bathroom</th>\n",
       "      <td>0.002907</td>\n",
       "      <td>0.607276</td>\n",
       "      <td>-0.276890</td>\n",
       "      <td>0.493173</td>\n",
       "      <td>-0.013801</td>\n",
       "      <td>-0.034939</td>\n",
       "      <td>0.114934</td>\n",
       "      <td>0.088003</td>\n",
       "      <td>1.000000</td>\n",
       "      <td>0.325872</td>\n",
       "      <td>0.080768</td>\n",
       "      <td>0.525465</td>\n",
       "      <td>0.162484</td>\n",
       "      <td>-0.102732</td>\n",
       "      <td>0.109001</td>\n",
       "      <td>0.037968</td>\n",
       "      <td>-0.058078</td>\n",
       "    </tr>\n",
       "    <tr>\n",
       "      <th>Car</th>\n",
       "      <td>0.088199</td>\n",
       "      <td>0.420030</td>\n",
       "      <td>-0.278868</td>\n",
       "      <td>0.237160</td>\n",
       "      <td>-0.019285</td>\n",
       "      <td>-0.000271</td>\n",
       "      <td>0.257264</td>\n",
       "      <td>0.024650</td>\n",
       "      <td>0.325872</td>\n",
       "      <td>1.000000</td>\n",
       "      <td>0.112280</td>\n",
       "      <td>0.318675</td>\n",
       "      <td>0.108676</td>\n",
       "      <td>-0.164842</td>\n",
       "      <td>0.048052</td>\n",
       "      <td>0.005941</td>\n",
       "      <td>-0.032157</td>\n",
       "    </tr>\n",
       "    <tr>\n",
       "      <th>Landsize</th>\n",
       "      <td>0.075567</td>\n",
       "      <td>0.092030</td>\n",
       "      <td>-0.043433</td>\n",
       "      <td>0.072753</td>\n",
       "      <td>-0.021601</td>\n",
       "      <td>-0.028470</td>\n",
       "      <td>0.063563</td>\n",
       "      <td>0.030973</td>\n",
       "      <td>0.080768</td>\n",
       "      <td>0.112280</td>\n",
       "      <td>1.000000</td>\n",
       "      <td>0.081878</td>\n",
       "      <td>0.032836</td>\n",
       "      <td>-0.049492</td>\n",
       "      <td>0.039890</td>\n",
       "      <td>-0.012608</td>\n",
       "      <td>-0.019397</td>\n",
       "    </tr>\n",
       "    <tr>\n",
       "      <th>BuildingArea</th>\n",
       "      <td>-0.017175</td>\n",
       "      <td>0.595395</td>\n",
       "      <td>-0.386768</td>\n",
       "      <td>0.519207</td>\n",
       "      <td>-0.048287</td>\n",
       "      <td>-0.042596</td>\n",
       "      <td>0.145823</td>\n",
       "      <td>0.062701</td>\n",
       "      <td>0.525465</td>\n",
       "      <td>0.318675</td>\n",
       "      <td>0.081878</td>\n",
       "      <td>1.000000</td>\n",
       "      <td>0.014778</td>\n",
       "      <td>-0.165966</td>\n",
       "      <td>0.105596</td>\n",
       "      <td>0.033615</td>\n",
       "      <td>-0.071308</td>\n",
       "    </tr>\n",
       "    <tr>\n",
       "      <th>YearBuilt</th>\n",
       "      <td>0.104215</td>\n",
       "      <td>-0.056373</td>\n",
       "      <td>0.304479</td>\n",
       "      <td>-0.297060</td>\n",
       "      <td>0.021274</td>\n",
       "      <td>-0.000680</td>\n",
       "      <td>0.252163</td>\n",
       "      <td>0.027168</td>\n",
       "      <td>0.162484</td>\n",
       "      <td>0.108676</td>\n",
       "      <td>0.032836</td>\n",
       "      <td>0.014778</td>\n",
       "      <td>1.000000</td>\n",
       "      <td>-0.065787</td>\n",
       "      <td>-0.009848</td>\n",
       "      <td>-0.014789</td>\n",
       "      <td>0.015524</td>\n",
       "    </tr>\n",
       "    <tr>\n",
       "      <th>CouncilArea</th>\n",
       "      <td>-0.194283</td>\n",
       "      <td>-0.207234</td>\n",
       "      <td>0.159736</td>\n",
       "      <td>-0.119382</td>\n",
       "      <td>0.018771</td>\n",
       "      <td>-0.002784</td>\n",
       "      <td>-0.280674</td>\n",
       "      <td>-0.059066</td>\n",
       "      <td>-0.102732</td>\n",
       "      <td>-0.164842</td>\n",
       "      <td>-0.049492</td>\n",
       "      <td>-0.165966</td>\n",
       "      <td>-0.065787</td>\n",
       "      <td>1.000000</td>\n",
       "      <td>-0.159771</td>\n",
       "      <td>-0.046359</td>\n",
       "      <td>0.017378</td>\n",
       "    </tr>\n",
       "    <tr>\n",
       "      <th>Longtitude</th>\n",
       "      <td>0.017536</td>\n",
       "      <td>0.095944</td>\n",
       "      <td>0.000434</td>\n",
       "      <td>0.217738</td>\n",
       "      <td>-0.059914</td>\n",
       "      <td>-0.061029</td>\n",
       "      <td>0.210853</td>\n",
       "      <td>0.423931</td>\n",
       "      <td>0.109001</td>\n",
       "      <td>0.048052</td>\n",
       "      <td>0.039890</td>\n",
       "      <td>0.105596</td>\n",
       "      <td>-0.009848</td>\n",
       "      <td>-0.159771</td>\n",
       "      <td>1.000000</td>\n",
       "      <td>-0.480664</td>\n",
       "      <td>0.045455</td>\n",
       "    </tr>\n",
       "    <tr>\n",
       "      <th>Regionname</th>\n",
       "      <td>-0.104060</td>\n",
       "      <td>-0.009092</td>\n",
       "      <td>0.055988</td>\n",
       "      <td>0.083803</td>\n",
       "      <td>0.033184</td>\n",
       "      <td>0.023397</td>\n",
       "      <td>-0.089077</td>\n",
       "      <td>0.006935</td>\n",
       "      <td>0.037968</td>\n",
       "      <td>0.005941</td>\n",
       "      <td>-0.012608</td>\n",
       "      <td>0.033615</td>\n",
       "      <td>-0.014789</td>\n",
       "      <td>-0.046359</td>\n",
       "      <td>-0.480664</td>\n",
       "      <td>1.000000</td>\n",
       "      <td>-0.141699</td>\n",
       "    </tr>\n",
       "    <tr>\n",
       "      <th>Propertycount</th>\n",
       "      <td>0.020192</td>\n",
       "      <td>-0.106854</td>\n",
       "      <td>0.111803</td>\n",
       "      <td>-0.052399</td>\n",
       "      <td>-0.024244</td>\n",
       "      <td>0.063498</td>\n",
       "      <td>-0.063805</td>\n",
       "      <td>0.058458</td>\n",
       "      <td>-0.058078</td>\n",
       "      <td>-0.032157</td>\n",
       "      <td>-0.019397</td>\n",
       "      <td>-0.071308</td>\n",
       "      <td>0.015524</td>\n",
       "      <td>0.017378</td>\n",
       "      <td>0.045455</td>\n",
       "      <td>-0.141699</td>\n",
       "      <td>1.000000</td>\n",
       "    </tr>\n",
       "  </tbody>\n",
       "</table>\n",
       "</div>"
      ],
      "text/plain": [
       "                     Id     Rooms      Type     Price    Method   SellerG  \\\n",
       "Id             1.000000  0.075467 -0.082662 -0.096217  0.015201  0.034281   \n",
       "Rooms          0.075467  1.000000 -0.590817  0.523579 -0.053525 -0.029506   \n",
       "Type          -0.082662 -0.590817  1.000000 -0.426876  0.088308  0.026955   \n",
       "Price         -0.096217  0.523579 -0.426876  1.000000 -0.048165 -0.065393   \n",
       "Method         0.015201 -0.053525  0.088308 -0.048165  1.000000 -0.008889   \n",
       "SellerG        0.034281 -0.029506  0.026955 -0.065393 -0.008889  1.000000   \n",
       "Distance       0.297354  0.289699 -0.242188 -0.158197 -0.064479  0.024476   \n",
       "Postcode       0.075244  0.050753  0.018737  0.120166 -0.034679 -0.001913   \n",
       "Bathroom       0.002907  0.607276 -0.276890  0.493173 -0.013801 -0.034939   \n",
       "Car            0.088199  0.420030 -0.278868  0.237160 -0.019285 -0.000271   \n",
       "Landsize       0.075567  0.092030 -0.043433  0.072753 -0.021601 -0.028470   \n",
       "BuildingArea  -0.017175  0.595395 -0.386768  0.519207 -0.048287 -0.042596   \n",
       "YearBuilt      0.104215 -0.056373  0.304479 -0.297060  0.021274 -0.000680   \n",
       "CouncilArea   -0.194283 -0.207234  0.159736 -0.119382  0.018771 -0.002784   \n",
       "Longtitude     0.017536  0.095944  0.000434  0.217738 -0.059914 -0.061029   \n",
       "Regionname    -0.104060 -0.009092  0.055988  0.083803  0.033184  0.023397   \n",
       "Propertycount  0.020192 -0.106854  0.111803 -0.052399 -0.024244  0.063498   \n",
       "\n",
       "               Distance  Postcode  Bathroom       Car  Landsize  BuildingArea  \\\n",
       "Id             0.297354  0.075244  0.002907  0.088199  0.075567     -0.017175   \n",
       "Rooms          0.289699  0.050753  0.607276  0.420030  0.092030      0.595395   \n",
       "Type          -0.242188  0.018737 -0.276890 -0.278868 -0.043433     -0.386768   \n",
       "Price         -0.158197  0.120166  0.493173  0.237160  0.072753      0.519207   \n",
       "Method        -0.064479 -0.034679 -0.013801 -0.019285 -0.021601     -0.048287   \n",
       "SellerG        0.024476 -0.001913 -0.034939 -0.000271 -0.028470     -0.042596   \n",
       "Distance       1.000000  0.414110  0.114934  0.257264  0.063563      0.145823   \n",
       "Postcode       0.414110  1.000000  0.088003  0.024650  0.030973      0.062701   \n",
       "Bathroom       0.114934  0.088003  1.000000  0.325872  0.080768      0.525465   \n",
       "Car            0.257264  0.024650  0.325872  1.000000  0.112280      0.318675   \n",
       "Landsize       0.063563  0.030973  0.080768  0.112280  1.000000      0.081878   \n",
       "BuildingArea   0.145823  0.062701  0.525465  0.318675  0.081878      1.000000   \n",
       "YearBuilt      0.252163  0.027168  0.162484  0.108676  0.032836      0.014778   \n",
       "CouncilArea   -0.280674 -0.059066 -0.102732 -0.164842 -0.049492     -0.165966   \n",
       "Longtitude     0.210853  0.423931  0.109001  0.048052  0.039890      0.105596   \n",
       "Regionname    -0.089077  0.006935  0.037968  0.005941 -0.012608      0.033615   \n",
       "Propertycount -0.063805  0.058458 -0.058078 -0.032157 -0.019397     -0.071308   \n",
       "\n",
       "               YearBuilt  CouncilArea  Longtitude  Regionname  Propertycount  \n",
       "Id              0.104215    -0.194283    0.017536   -0.104060       0.020192  \n",
       "Rooms          -0.056373    -0.207234    0.095944   -0.009092      -0.106854  \n",
       "Type            0.304479     0.159736    0.000434    0.055988       0.111803  \n",
       "Price          -0.297060    -0.119382    0.217738    0.083803      -0.052399  \n",
       "Method          0.021274     0.018771   -0.059914    0.033184      -0.024244  \n",
       "SellerG        -0.000680    -0.002784   -0.061029    0.023397       0.063498  \n",
       "Distance        0.252163    -0.280674    0.210853   -0.089077      -0.063805  \n",
       "Postcode        0.027168    -0.059066    0.423931    0.006935       0.058458  \n",
       "Bathroom        0.162484    -0.102732    0.109001    0.037968      -0.058078  \n",
       "Car             0.108676    -0.164842    0.048052    0.005941      -0.032157  \n",
       "Landsize        0.032836    -0.049492    0.039890   -0.012608      -0.019397  \n",
       "BuildingArea    0.014778    -0.165966    0.105596    0.033615      -0.071308  \n",
       "YearBuilt       1.000000    -0.065787   -0.009848   -0.014789       0.015524  \n",
       "CouncilArea    -0.065787     1.000000   -0.159771   -0.046359       0.017378  \n",
       "Longtitude     -0.009848    -0.159771    1.000000   -0.480664       0.045455  \n",
       "Regionname     -0.014789    -0.046359   -0.480664    1.000000      -0.141699  \n",
       "Propertycount   0.015524     0.017378    0.045455   -0.141699       1.000000  "
      ]
     },
     "execution_count": 2,
     "metadata": {},
     "output_type": "execute_result"
    }
   ],
   "source": [
    "# Code starts here\n",
    "train = pd.read_csv(\"train.csv\")\n",
    "train.columns\n",
    "print(train.shape)\n",
    "\n",
    "corr = train.corr()\n",
    "corr\n",
    "\n",
    "# Code ends here."
   ]
  },
  {
   "cell_type": "markdown",
   "metadata": {},
   "source": [
    "## Model building\n",
    "\n",
    "- Separate the features and target and then split the train data into train and validation set.\n",
    "- Apply different models of your choice and  then predict on the validation data and find the `accuracy_score` for this prediction.\n",
    "- Try improving upon the `accuracy_score` using different regularization techniques."
   ]
  },
  {
   "cell_type": "code",
   "execution_count": 4,
   "metadata": {},
   "outputs": [],
   "source": [
    "# Code starts here\n",
    "\n",
    "#Separate the features and target and then split the train data into train and validation set.\n",
    "X = train.drop('Price',axis=1)\n",
    "y = train['Price']\n",
    "X_train,X_test,y_train,y_test = train_test_split(X,y,test_size = 0.2, random_state = 8)\n",
    "\n",
    "# Code ends here."
   ]
  },
  {
   "cell_type": "code",
   "execution_count": 5,
   "metadata": {},
   "outputs": [
    {
     "name": "stdout",
     "output_type": "stream",
     "text": [
      "                     Id     Rooms      Type    Method   SellerG  Distance  \\\n",
      "Id             1.000000  0.075764 -0.083633  0.019359  0.035193  0.294859   \n",
      "Rooms          0.075764  1.000000 -0.591594 -0.047526 -0.026215  0.293088   \n",
      "Type          -0.083633 -0.591594  1.000000  0.090044  0.021462 -0.244192   \n",
      "Method         0.019359 -0.047526  0.090044  1.000000 -0.009798 -0.063272   \n",
      "SellerG        0.035193 -0.026215  0.021462 -0.009798  1.000000  0.032875   \n",
      "Distance       0.294859  0.293088 -0.244192 -0.063272  0.032875  1.000000   \n",
      "Postcode       0.083617  0.047140  0.018952 -0.037401  0.010450  0.415532   \n",
      "Bathroom       0.006307  0.610079 -0.277024 -0.010363 -0.031769  0.122087   \n",
      "Car            0.090814  0.414788 -0.279954 -0.004611  0.000352  0.261395   \n",
      "Landsize       0.072463  0.079736 -0.036630 -0.018969 -0.035107  0.060073   \n",
      "BuildingArea  -0.007568  0.583214 -0.377057 -0.046658 -0.028019  0.150359   \n",
      "YearBuilt      0.100308 -0.060629  0.299643  0.028061 -0.001993  0.254024   \n",
      "CouncilArea   -0.201579 -0.193943  0.151539  0.019330 -0.011073 -0.277801   \n",
      "Longtitude     0.022343  0.098562  0.003147 -0.061404 -0.061477  0.218455   \n",
      "Regionname    -0.085174 -0.016016  0.053067  0.034119  0.032847 -0.083525   \n",
      "Propertycount  0.017789 -0.107841  0.110738 -0.022746  0.053109 -0.074620   \n",
      "\n",
      "               Postcode  Bathroom       Car  Landsize  BuildingArea  \\\n",
      "Id             0.083617  0.006307  0.090814  0.072463     -0.007568   \n",
      "Rooms          0.047140  0.610079  0.414788  0.079736      0.583214   \n",
      "Type           0.018952 -0.277024 -0.279954 -0.036630     -0.377057   \n",
      "Method        -0.037401 -0.010363 -0.004611 -0.018969     -0.046658   \n",
      "SellerG        0.010450 -0.031769  0.000352 -0.035107     -0.028019   \n",
      "Distance       0.415532  0.122087  0.261395  0.060073      0.150359   \n",
      "Postcode       1.000000  0.097674  0.019530  0.031118      0.060225   \n",
      "Bathroom       0.097674  1.000000  0.316128  0.075054      0.514780   \n",
      "Car            0.019530  0.316128  1.000000  0.104974      0.310916   \n",
      "Landsize       0.031118  0.075054  0.104974  1.000000      0.074179   \n",
      "BuildingArea   0.060225  0.514780  0.310916  0.074179      1.000000   \n",
      "YearBuilt      0.026961  0.154465  0.102802  0.027693      0.014746   \n",
      "CouncilArea   -0.061896 -0.107877 -0.162446 -0.052890     -0.161123   \n",
      "Longtitude     0.434743  0.113444  0.044017  0.036848      0.104517   \n",
      "Regionname     0.001458  0.041531  0.005050 -0.003697      0.027452   \n",
      "Propertycount  0.042893 -0.063240 -0.021794 -0.017653     -0.070670   \n",
      "\n",
      "               YearBuilt  CouncilArea  Longtitude  Regionname  Propertycount  \n",
      "Id              0.100308    -0.201579    0.022343   -0.085174       0.017789  \n",
      "Rooms          -0.060629    -0.193943    0.098562   -0.016016      -0.107841  \n",
      "Type            0.299643     0.151539    0.003147    0.053067       0.110738  \n",
      "Method          0.028061     0.019330   -0.061404    0.034119      -0.022746  \n",
      "SellerG        -0.001993    -0.011073   -0.061477    0.032847       0.053109  \n",
      "Distance        0.254024    -0.277801    0.218455   -0.083525      -0.074620  \n",
      "Postcode        0.026961    -0.061896    0.434743    0.001458       0.042893  \n",
      "Bathroom        0.154465    -0.107877    0.113444    0.041531      -0.063240  \n",
      "Car             0.102802    -0.162446    0.044017    0.005050      -0.021794  \n",
      "Landsize        0.027693    -0.052890    0.036848   -0.003697      -0.017653  \n",
      "BuildingArea    0.014746    -0.161123    0.104517    0.027452      -0.070670  \n",
      "YearBuilt       1.000000    -0.068569   -0.016523   -0.002093       0.010102  \n",
      "CouncilArea    -0.068569     1.000000   -0.161626   -0.059807       0.013473  \n",
      "Longtitude     -0.016523    -0.161626    1.000000   -0.477338       0.044463  \n",
      "Regionname     -0.002093    -0.059807   -0.477338    1.000000      -0.141487  \n",
      "Propertycount   0.010102     0.013473    0.044463   -0.141487       1.000000  \n"
     ]
    }
   ],
   "source": [
    "corr=X_train.corr()\n",
    "print(corr)"
   ]
  },
  {
   "cell_type": "code",
   "execution_count": 6,
   "metadata": {},
   "outputs": [
    {
     "data": {
      "text/plain": [
       "<matplotlib.axes._subplots.AxesSubplot at 0x3ce8090>"
      ]
     },
     "execution_count": 6,
     "metadata": {},
     "output_type": "execute_result"
    },
    {
     "data": {
      "image/png": "[encoded data removed]",
      "text/plain": [
       "<Figure size 432x288 with 2 Axes>"
      ]
     },
     "metadata": {
      "needs_background": "light"
     },
     "output_type": "display_data"
    }
   ],
   "source": [
    "sns.heatmap(corr)"
   ]
  },
  {
   "cell_type": "code",
   "execution_count": 7,
   "metadata": {},
   "outputs": [
    {
     "data": {
      "text/plain": [
       "0.6890580983875366"
      ]
     },
     "execution_count": 7,
     "metadata": {},
     "output_type": "execute_result"
    }
   ],
   "source": [
    "#Apply different models of your choice and then predict on the validation data and find the accuracy_score for this prediction.\n",
    "\n",
    "#Linear Regression\n",
    "regressor = LinearRegression()\n",
    "regressor.fit(X_train,y_train)\n",
    "y_pred = regressor.predict(X_test)\n",
    "r2 = r2_score(y_test,y_pred)\n",
    "r2"
   ]
  },
  {
   "cell_type": "code",
   "execution_count": 8,
   "metadata": {},
   "outputs": [
    {
     "data": {
      "text/plain": [
       "0.6890578064895783"
      ]
     },
     "execution_count": 8,
     "metadata": {},
     "output_type": "execute_result"
    }
   ],
   "source": [
    "#Lasso\n",
    "l1 = Lasso()\n",
    "l1.fit(X_train,y_train)\n",
    "l1_pred = l1.predict(X_test)\n",
    "l1_r2 = r2_score(y_test,l1_pred)\n",
    "l1_r2"
   ]
  },
  {
   "cell_type": "code",
   "execution_count": 9,
   "metadata": {},
   "outputs": [
    {
     "data": {
      "text/plain": [
       "0.6889050415032762"
      ]
     },
     "execution_count": 9,
     "metadata": {},
     "output_type": "execute_result"
    }
   ],
   "source": [
    "#Ridge\n",
    "ridge = Ridge()\n",
    "ridge.fit(X_train,y_train)\n",
    "ridge_pred = ridge.predict(X_test)\n",
    "r2_ridge = r2_score(y_test,ridge_pred)\n",
    "r2_ridge \n",
    "\n"
   ]
  },
  {
   "cell_type": "code",
   "execution_count": 10,
   "metadata": {},
   "outputs": [
    {
     "name": "stdout",
     "output_type": "stream",
     "text": [
      "Mean Score 0.5803161421246121\n"
     ]
    },
    {
     "data": {
      "text/plain": [
       "array([0.6237558 , 0.57460975, 0.69185188, 0.68892513, 0.2923156 ,\n",
       "       0.58173148, 0.66052876, 0.46638888, 0.6486981 , 0.57435605])"
      ]
     },
     "execution_count": 10,
     "metadata": {},
     "output_type": "execute_result"
    }
   ],
   "source": [
    "#Cross Validation\n",
    "cv_regressor = LinearRegression()\n",
    "#score = -np.mean(cross_val_score(L1, X_train, y_train, scoring=scorer, cv=10))\n",
    "score = cross_val_score(cv_regressor, X_train, y_train, cv=10)\n",
    "mean_score = np.mean(score)\n",
    "print(\"Mean Score\" ,mean_score )\n",
    "score"
   ]
  },
  {
   "cell_type": "code",
   "execution_count": 13,
   "metadata": {},
   "outputs": [
    {
     "name": "stdout",
     "output_type": "stream",
     "text": [
      "0.750825430551957\n"
     ]
    }
   ],
   "source": [
    "#Polynomial_Pipeline\n",
    "model = make_pipeline(PolynomialFeatures(2), LinearRegression())\n",
    "model.fit(X_train,y_train)\n",
    "y_pred = model.predict(X_test)\n",
    "r2_poly = r2_score(y_test,y_pred)\n",
    "print(r2_poly)\n"
   ]
  },
  {
   "cell_type": "code",
   "execution_count": 12,
   "metadata": {},
   "outputs": [
    {
     "data": {
      "text/plain": [
       "0.750825430551957"
      ]
     },
     "execution_count": 12,
     "metadata": {},
     "output_type": "execute_result"
    }
   ],
   "source": [
    "#Polynomial\n",
    "poly = PolynomialFeatures(2)\n",
    "X_train_poly = poly.fit_transform(X_train)\n",
    "X_test_poly = poly.transform(X_test)\n",
    "\n",
    "regressor.fit(X_train_poly, y_train)\n",
    "y_pred_poly = regressor.predict(X_test_poly)\n",
    "\n",
    "r2 = r2_score(y_test,y_pred_poly)\n",
    "r2"
   ]
  },
  {
   "cell_type": "markdown",
   "metadata": {},
   "source": [
    "### Prediction on the test data and creating the sample submission file.\n",
    "\n",
    "- Load the test data and store the `Id` column in a separate variable.\n",
    "- Perform the same operations on the test data that you have performed on the train data.\n",
    "- Create the submission file as a `csv` file consisting of the `Id` column from the test data and your prediction as the second column."
   ]
  },
  {
   "cell_type": "code",
   "execution_count": 14,
   "metadata": {},
   "outputs": [
    {
     "data": {
      "text/plain": [
       "(2049, 16)"
      ]
     },
     "execution_count": 14,
     "metadata": {},
     "output_type": "execute_result"
    }
   ],
   "source": [
    "df_test = pd.read_csv(\"test.csv\")\n",
    "id = df_test[\"Id\"]\n",
    "df_test.shape"
   ]
  },
  {
   "cell_type": "code",
   "execution_count": 18,
   "metadata": {},
   "outputs": [
    {
     "name": "stdout",
     "output_type": "stream",
     "text": [
      "[ 743968.45510101  859538.13716888 1841250.7289505  ...  856967.50306702\n",
      " 2351499.46140289 1551471.07210541]\n"
     ]
    },
    {
     "data": {
      "text/plain": [
       "(2049,)"
      ]
     },
     "execution_count": 18,
     "metadata": {},
     "output_type": "execute_result"
    }
   ],
   "source": [
    "y_pred_test = model.predict(df_test)\n",
    "print(y_pred_test)\n",
    "y_pred_test.shape"
   ]
  },
  {
   "cell_type": "code",
   "execution_count": 20,
   "metadata": {},
   "outputs": [],
   "source": [
    "# Create a sample submission file\n",
    "final_sub = pd.DataFrame({\"Id\": id, \"Price\": y_pred_test})\n",
    "#final_sub"
   ]
  },
  {
   "cell_type": "code",
   "execution_count": 21,
   "metadata": {},
   "outputs": [],
   "source": [
    "# Convert the sample submission file into a csv file\n",
    "final_sub.to_csv(\"Melbourne_Submission.csv\", index=False)\n"
   ]
  }
 ],
 "metadata": {
  "kernelspec": {
   "display_name": "Python 3",
   "language": "python",
   "name": "python3"
  },
  "language_info": {
   "codemirror_mode": {
    "name": "ipython",
    "version": 3
   },
   "file_extension": ".py",
   "mimetype": "text/x-python",
   "name": "python",
   "nbconvert_exporter": "python",
   "pygments_lexer": "ipython3",
   "version": "3.7.3"
  }
 },
 "nbformat": 4,
 "nbformat_minor": 4
}
